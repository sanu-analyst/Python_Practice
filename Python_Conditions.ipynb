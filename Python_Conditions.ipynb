{
  "cells": [
    {
      "cell_type": "markdown",
      "metadata": {
        "id": "view-in-github",
        "colab_type": "text"
      },
      "source": [
        "<a href=\"https://colab.research.google.com/github/sanu-analyst/Python_Practice/blob/main/Python_Conditions.ipynb\" target=\"_parent\"><img src=\"https://colab.research.google.com/assets/colab-badge.svg\" alt=\"Open In Colab\"/></a>"
      ]
    },
    {
      "cell_type": "markdown",
      "metadata": {
        "id": "pOjn5B1N2dwb"
      },
      "source": [
        "<h2>Table of Contents</h2>\n",
        "<div class=\"alert alert-block alert-info\" style=\"margin-top: 20px\">\n",
        "    <ul>\n",
        "        <li>\n",
        "            <a href=\"https://#cond\">Condition Statements</a>\n",
        "            <ul>\n",
        "                <li><a href=\"https://comp/?utm_medium=Exinfluencer&utm_source=Exinfluencer&utm_content=000026UJ&utm_term=10006555&utm_id=NA-SkillsNetwork-Channel-SkillsNetworkCoursesIBMDeveloperSkillsNetworkPY0101ENSkillsNetwork19487395-2022-01-01\">Comparison Operators</a></li>\n",
        "                <li><a href=\"https://branch/?utm_medium=Exinfluencer&utm_source=Exinfluencer&utm_content=000026UJ&utm_term=10006555&utm_id=NA-SkillsNetwork-Channel-SkillsNetworkCoursesIBMDeveloperSkillsNetworkPY0101ENSkillsNetwork19487395-2022-01-01\">Branching</a></li>\n",
        "                <li><a href=\"https://logic/?utm_medium=Exinfluencer&utm_source=Exinfluencer&utm_content=000026UJ&utm_term=10006555&utm_id=NA-SkillsNetwork-Channel-SkillsNetworkCoursesIBMDeveloperSkillsNetworkPY0101ENSkillsNetwork19487395-2022-01-01\">Logical operators</a></li>\n",
        "            </ul>\n",
        "        </li>\n",
        "        <li>\n",
        "            <a href=\"https://#quiz\">Quiz on Condition Statement</a>\n",
        "        </li>\n",
        "    </ul>\n",
        "\n",
        "</div>\n",
        "\n",
        "<hr>\n"
      ]
    },
    {
      "cell_type": "markdown",
      "metadata": {
        "id": "fTRDRyxP2dwd"
      },
      "source": [
        "<h2 id=\"cond\">Condition Statements</h2>\n"
      ]
    },
    {
      "cell_type": "markdown",
      "metadata": {
        "id": "ME3GMtsY2dwd"
      },
      "source": [
        "<h3 id=\"comp\">Comparison Operators</h3>\n"
      ]
    },
    {
      "cell_type": "markdown",
      "metadata": {
        "id": "3D5WZSol2dwe"
      },
      "source": [
        "Comparison operations compare some value or operand and based on a condition, produce a Boolean. When comparing two values you can use these operators:\n",
        "\n",
        "<ul>\n",
        "    <li>equal: <b>==</b></li>\n",
        "    <li>not equal: <b>!=</b></li>\n",
        "    <li>greater than: <b>></b></li>\n",
        "    <li>less than: <b>&lt;</b></li>\n",
        "    <li>greater than or equal to: <b>>=</b></li>\n",
        "    <li>less than or equal to: <b>&lt;=</b></li>\n",
        "</ul>\n"
      ]
    },
    {
      "cell_type": "markdown",
      "metadata": {
        "id": "2xCTuwnQ2dwf"
      },
      "source": [
        "Let's assign <code>a</code> a value of 5. Use the equality operator denoted with two equal <b>==</b> signs to determine if two values are equal. The case below compares the variable <code>a</code> with 6.\n"
      ]
    },
    {
      "cell_type": "code",
      "execution_count": 1,
      "metadata": {
        "colab": {
          "base_uri": "https://localhost:8080/"
        },
        "id": "JhpMDQQi2dwg",
        "outputId": "f4b9f21e-a211-4870-a084-297e2a2df9ae"
      },
      "outputs": [
        {
          "output_type": "execute_result",
          "data": {
            "text/plain": [
              "False"
            ]
          },
          "metadata": {},
          "execution_count": 1
        }
      ],
      "source": [
        "# Condition Equal\n",
        "\n",
        "a = 5\n",
        "a == 6"
      ]
    },
    {
      "cell_type": "markdown",
      "metadata": {
        "id": "tEqaa-rD2dwh"
      },
      "source": [
        "The result is <b>False</b>, as 5 does not equal to 6.\n"
      ]
    },
    {
      "cell_type": "markdown",
      "metadata": {
        "id": "ZPHcqOSt2dwi"
      },
      "source": [
        "Consider the following equality comparison operator: <code>i > 5</code>. If the value of the left operand, in this case the variable <b>i</b>, is greater than the value of the right operand, in this case 5, then the statement is <b>True</b>. Otherwise, the statement is <b>False</b>.  If <b>i</b> is equal to 6, because 6 is larger than 5, the output is <b>True</b>.\n"
      ]
    },
    {
      "cell_type": "code",
      "execution_count": 2,
      "metadata": {
        "colab": {
          "base_uri": "https://localhost:8080/"
        },
        "id": "tZIBl-IA2dwj",
        "outputId": "ec47b4ea-27e5-40e9-b7c3-7e066eb4d53d"
      },
      "outputs": [
        {
          "output_type": "execute_result",
          "data": {
            "text/plain": [
              "True"
            ]
          },
          "metadata": {},
          "execution_count": 2
        }
      ],
      "source": [
        "# Greater than Sign\n",
        "\n",
        "i = 6\n",
        "i > 5"
      ]
    },
    {
      "cell_type": "markdown",
      "metadata": {
        "id": "_9Wr9AEm2dwk"
      },
      "source": [
        "Set <code>i = 2</code>. The statement is False as 2 is not greater than 5:\n"
      ]
    },
    {
      "cell_type": "code",
      "execution_count": 3,
      "metadata": {
        "colab": {
          "base_uri": "https://localhost:8080/"
        },
        "id": "bch7JAV-2dwk",
        "outputId": "6187404b-5da9-4d06-96d6-a6ffe1b19661"
      },
      "outputs": [
        {
          "output_type": "execute_result",
          "data": {
            "text/plain": [
              "False"
            ]
          },
          "metadata": {},
          "execution_count": 3
        }
      ],
      "source": [
        "# Greater than Sign\n",
        "\n",
        "i = 2\n",
        "i > 5"
      ]
    },
    {
      "cell_type": "markdown",
      "metadata": {
        "id": "CKeSd06M2dwl"
      },
      "source": [
        "Let's display some values for <code>i</code> in the figure. Set the values greater than 5 in green and the rest in red. The green region represents where the condition is **True**, the red where the statement is **False**. If the value of <code>i</code> is 2, we get **False** as the 2 falls in the red region. Similarly, if the value for <code>i</code> is 6 we get a **True** as the condition falls in the green region.\n"
      ]
    },
    {
      "cell_type": "markdown",
      "metadata": {
        "id": "K5QVavE02dwm"
      },
      "source": [
        "<img src=\"https://cf-courses-data.s3.us.cloud-object-storage.appdomain.cloud/IBMDeveloperSkillsNetwork-PY0101EN-SkillsNetwork/labs/Module%203/images/CondsGreater.gif\" width=\"650\" />\n"
      ]
    },
    {
      "cell_type": "markdown",
      "metadata": {
        "id": "flckXjm72dwm"
      },
      "source": [
        "The inequality test uses an exclamation mark preceding the equal sign, if two operands are not equal then the condition becomes **True**.  For example, the following condition will produce **True** as long as the value of <code>i</code> is not equal to 6:\n"
      ]
    },
    {
      "cell_type": "code",
      "execution_count": 4,
      "metadata": {
        "colab": {
          "base_uri": "https://localhost:8080/"
        },
        "id": "QvPJCG0C2dwn",
        "outputId": "e66293c8-fa40-4d62-914b-8c20f2e07bba"
      },
      "outputs": [
        {
          "output_type": "execute_result",
          "data": {
            "text/plain": [
              "True"
            ]
          },
          "metadata": {},
          "execution_count": 4
        }
      ],
      "source": [
        "# Inequality Sign\n",
        "\n",
        "i = 2\n",
        "i != 6"
      ]
    },
    {
      "cell_type": "markdown",
      "metadata": {
        "id": "02jPorLq2dwn"
      },
      "source": [
        "When <code>i</code> equals 6 the inequality expression produces <b>False</b>.\n"
      ]
    },
    {
      "cell_type": "code",
      "execution_count": 5,
      "metadata": {
        "colab": {
          "base_uri": "https://localhost:8080/"
        },
        "id": "FmQ_sE3A2dwo",
        "outputId": "ffa35ac0-3819-4e0b-ef19-6b7403c905b1"
      },
      "outputs": [
        {
          "output_type": "execute_result",
          "data": {
            "text/plain": [
              "False"
            ]
          },
          "metadata": {},
          "execution_count": 5
        }
      ],
      "source": [
        "# Inequality Sign\n",
        "\n",
        "i = 6\n",
        "i != 6"
      ]
    },
    {
      "cell_type": "markdown",
      "metadata": {
        "id": "o1IuG9aL2dwo"
      },
      "source": [
        "See the number line below. When the condition is **True**, the corresponding numbers are marked in green and for where the condition is **False** the corresponding number is marked in red.  If we set <code>i</code> equal to 2 the operator is true, since 2 is in the green region. If we set <code>i</code> equal to 6, we get a **False**, since the condition falls in the red region.\n"
      ]
    },
    {
      "cell_type": "markdown",
      "metadata": {
        "id": "STYPVVeF2dwp"
      },
      "source": [
        "<img src=\"https://cf-courses-data.s3.us.cloud-object-storage.appdomain.cloud/IBMDeveloperSkillsNetwork-PY0101EN-SkillsNetwork/labs/Module%203/images/CondsIneq.gif\" width=\"650\" />\n"
      ]
    },
    {
      "cell_type": "markdown",
      "metadata": {
        "id": "mwO23X6b2dwq"
      },
      "source": [
        "We can apply the same methods on strings. For example, we can use an equality operator on two different strings. As the strings are not equal, we get a **False**.\n"
      ]
    },
    {
      "cell_type": "code",
      "execution_count": 6,
      "metadata": {
        "colab": {
          "base_uri": "https://localhost:8080/"
        },
        "id": "sFSnOYN_2dwq",
        "outputId": "61f4be48-ae25-4690-904c-edbdd906b433"
      },
      "outputs": [
        {
          "output_type": "execute_result",
          "data": {
            "text/plain": [
              "False"
            ]
          },
          "metadata": {},
          "execution_count": 6
        }
      ],
      "source": [
        "# Use Equality sign to compare the strings\n",
        "\n",
        "\"ACDC\" == \"Michael Jackson\""
      ]
    },
    {
      "cell_type": "markdown",
      "metadata": {
        "id": "LhJ5z1Mk2dwr"
      },
      "source": [
        "If we use the inequality operator, the output is going to be **True** as the strings are not equal.\n"
      ]
    },
    {
      "cell_type": "code",
      "execution_count": 7,
      "metadata": {
        "colab": {
          "base_uri": "https://localhost:8080/"
        },
        "id": "np9oCUC72dwr",
        "outputId": "ade222b6-e31c-4016-9045-462b7b9ca178"
      },
      "outputs": [
        {
          "output_type": "execute_result",
          "data": {
            "text/plain": [
              "True"
            ]
          },
          "metadata": {},
          "execution_count": 7
        }
      ],
      "source": [
        "# Use Inequality sign to compare the strings\n",
        "\n",
        "\"ACDC\" != \"Michael Jackson\""
      ]
    },
    {
      "cell_type": "markdown",
      "metadata": {
        "id": "NaFoOEnW2dws"
      },
      "source": [
        "The inequality operation is also used to compare the letters/words/symbols according to the ASCII value of letters. The decimal value shown in the following table represents the order of the character:\n"
      ]
    },
    {
      "cell_type": "markdown",
      "metadata": {
        "id": "4Qdr9e4Y2dws"
      },
      "source": [
        "<style type=\"text/css\">\n",
        ".tg  {border-collapse:collapse;border-spacing:0;}\n",
        ".tg td{border-color:black;border-style:solid;border-width:1px;font-family:Arial, sans-serif;font-size:14px;\n",
        "  overflow:hidden;padding:10px 5px;word-break:normal;}\n",
        ".tg th{border-color:black;border-style:solid;border-width:1px;font-family:Arial, sans-serif;font-size:14px;\n",
        "  font-weight:normal;overflow:hidden;padding:10px 5px;word-break:normal;}\n",
        ".tg .tg-baqh{text-align:center;vertical-align:top}\n",
        ".tg .tg-7geq{background-color:#ffffc7;text-align:center;vertical-align:top}\n",
        ".tg .tg-1cln{background-color:#ffcc67;font-size:100%;font-weight:bold;text-align:center;vertical-align:top}\n",
        ".tg .tg-xozw{background-color:#ffcc67;font-weight:bold;text-align:center;vertical-align:top}\n",
        "</style>\n",
        "\n",
        "<table class=\"tg\">\n",
        "<thead>\n",
        "  <tr>\n",
        "    <th class=\"tg-1cln\">Char.</th>\n",
        "    <th class=\"tg-xozw\">ASCII</th>\n",
        "    <th class=\"tg-xozw\">Char.</th>\n",
        "    <th class=\"tg-xozw\">ASCII</th>\n",
        "    <th class=\"tg-xozw\">Char.</th>\n",
        "    <th class=\"tg-xozw\">ASCII</th>\n",
        "    <th class=\"tg-xozw\">Char.</th>\n",
        "    <th class=\"tg-xozw\">ASCII</th>\n",
        "  </tr>\n",
        "</thead>\n",
        "<tbody>\n",
        "  <tr>\n",
        "    <td class=\"tg-7geq\">A</td>\n",
        "    <td class=\"tg-baqh\">65</td>\n",
        "    <td class=\"tg-7geq\">N</td>\n",
        "    <td class=\"tg-baqh\">78</td>\n",
        "    <td class=\"tg-7geq\">a</td>\n",
        "    <td class=\"tg-baqh\">97</td>\n",
        "    <td class=\"tg-7geq\">n</td>\n",
        "    <td class=\"tg-baqh\">110</td>\n",
        "  </tr>\n",
        "  <tr>\n",
        "    <td class=\"tg-7geq\">B</td>\n",
        "    <td class=\"tg-baqh\">66</td>\n",
        "    <td class=\"tg-7geq\">O</td>\n",
        "    <td class=\"tg-baqh\">79</td>\n",
        "    <td class=\"tg-7geq\">b</td>\n",
        "    <td class=\"tg-baqh\">98</td>\n",
        "    <td class=\"tg-7geq\">o</td>\n",
        "    <td class=\"tg-baqh\">111</td>\n",
        "  </tr>\n",
        "  <tr>\n",
        "    <td class=\"tg-7geq\">C</td>\n",
        "    <td class=\"tg-baqh\">67</td>\n",
        "    <td class=\"tg-7geq\">P</td>\n",
        "    <td class=\"tg-baqh\">80</td>\n",
        "    <td class=\"tg-7geq\">c</td>\n",
        "    <td class=\"tg-baqh\">99</td>\n",
        "    <td class=\"tg-7geq\">p</td>\n",
        "    <td class=\"tg-baqh\">112</td>\n",
        "  </tr>\n",
        "  <tr>\n",
        "    <td class=\"tg-7geq\">D</td>\n",
        "    <td class=\"tg-baqh\">68</td>\n",
        "    <td class=\"tg-7geq\">Q</td>\n",
        "    <td class=\"tg-baqh\">81</td>\n",
        "    <td class=\"tg-7geq\">d</td>\n",
        "    <td class=\"tg-baqh\">100</td>\n",
        "    <td class=\"tg-7geq\">q</td>\n",
        "    <td class=\"tg-baqh\">113</td>\n",
        "  </tr>\n",
        "  <tr>\n",
        "    <td class=\"tg-7geq\">E</td>\n",
        "    <td class=\"tg-baqh\">69</td>\n",
        "    <td class=\"tg-7geq\">R</td>\n",
        "    <td class=\"tg-baqh\">82</td>\n",
        "    <td class=\"tg-7geq\">e</td>\n",
        "    <td class=\"tg-baqh\">101</td>\n",
        "    <td class=\"tg-7geq\">r</td>\n",
        "    <td class=\"tg-baqh\">114</td>\n",
        "  </tr>\n",
        "  <tr>\n",
        "    <td class=\"tg-7geq\">F</td>\n",
        "    <td class=\"tg-baqh\">70</td>\n",
        "    <td class=\"tg-7geq\">S</td>\n",
        "    <td class=\"tg-baqh\">83</td>\n",
        "    <td class=\"tg-7geq\">f</td>\n",
        "    <td class=\"tg-baqh\">102</td>\n",
        "    <td class=\"tg-7geq\">s</td>\n",
        "    <td class=\"tg-baqh\">115</td>\n",
        "  </tr>\n",
        "  <tr>\n",
        "    <td class=\"tg-7geq\">G</td>\n",
        "    <td class=\"tg-baqh\">71</td>\n",
        "    <td class=\"tg-7geq\">T</td>\n",
        "    <td class=\"tg-baqh\">84</td>\n",
        "    <td class=\"tg-7geq\">g</td>\n",
        "    <td class=\"tg-baqh\">103</td>\n",
        "    <td class=\"tg-7geq\">t</td>\n",
        "    <td class=\"tg-baqh\">116</td>\n",
        "  </tr>\n",
        "  <tr>\n",
        "    <td class=\"tg-7geq\">H</td>\n",
        "    <td class=\"tg-baqh\">72</td>\n",
        "    <td class=\"tg-7geq\">U</td>\n",
        "    <td class=\"tg-baqh\">85</td>\n",
        "    <td class=\"tg-7geq\">h</td>\n",
        "    <td class=\"tg-baqh\">104</td>\n",
        "    <td class=\"tg-7geq\">u</td>\n",
        "    <td class=\"tg-baqh\">117</td>\n",
        "  </tr>\n",
        "  <tr>\n",
        "    <td class=\"tg-7geq\">I</td>\n",
        "    <td class=\"tg-baqh\">73</td>\n",
        "    <td class=\"tg-7geq\">V</td>\n",
        "    <td class=\"tg-baqh\">86</td>\n",
        "    <td class=\"tg-7geq\">i</td>\n",
        "    <td class=\"tg-baqh\">105</td>\n",
        "    <td class=\"tg-7geq\">v</td>\n",
        "    <td class=\"tg-baqh\">118</td>\n",
        "  </tr>\n",
        "  <tr>\n",
        "    <td class=\"tg-7geq\">J</td>\n",
        "    <td class=\"tg-baqh\">74</td>\n",
        "    <td class=\"tg-7geq\">W</td>\n",
        "    <td class=\"tg-baqh\">87</td>\n",
        "    <td class=\"tg-7geq\">j</td>\n",
        "    <td class=\"tg-baqh\">106</td>\n",
        "    <td class=\"tg-7geq\">w</td>\n",
        "    <td class=\"tg-baqh\">119</td>\n",
        "  </tr>\n",
        "  <tr>\n",
        "    <td class=\"tg-7geq\">K</td>\n",
        "    <td class=\"tg-baqh\">75</td>\n",
        "    <td class=\"tg-7geq\">X</td>\n",
        "    <td class=\"tg-baqh\">88</td>\n",
        "    <td class=\"tg-7geq\">k</td>\n",
        "    <td class=\"tg-baqh\">107</td>\n",
        "    <td class=\"tg-7geq\">x</td>\n",
        "    <td class=\"tg-baqh\">120</td>\n",
        "  </tr>\n",
        "  <tr>\n",
        "    <td class=\"tg-7geq\">L</td>\n",
        "    <td class=\"tg-baqh\">76</td>\n",
        "    <td class=\"tg-7geq\">Y</td>\n",
        "    <td class=\"tg-baqh\">89</td>\n",
        "    <td class=\"tg-7geq\">l</td>\n",
        "    <td class=\"tg-baqh\">108</td>\n",
        "    <td class=\"tg-7geq\">y</td>\n",
        "    <td class=\"tg-baqh\">121</td>\n",
        "  </tr>\n",
        "  <tr>\n",
        "    <td class=\"tg-7geq\">M</td>\n",
        "    <td class=\"tg-baqh\">77</td>\n",
        "    <td class=\"tg-7geq\">Z</td>\n",
        "    <td class=\"tg-baqh\">90</td>\n",
        "    <td class=\"tg-7geq\">m</td>\n",
        "    <td class=\"tg-baqh\">109</td>\n",
        "    <td class=\"tg-7geq\">z</td>\n",
        "    <td class=\"tg-baqh\">122</td>\n",
        "  </tr>\n",
        "</tbody>\n",
        "</table>\n"
      ]
    },
    {
      "cell_type": "markdown",
      "metadata": {
        "id": "pg8o02k_2dwt"
      },
      "source": [
        "For example, the ASCII code for <b>!</b> is 33, while the ASCII code for <b>+</b> is 43. Therefore <b>+</b> is larger than <b>!</b> as 43 is greater than 33.\n"
      ]
    },
    {
      "cell_type": "markdown",
      "metadata": {
        "id": "8eZS2s662dwu"
      },
      "source": [
        "Similarly, from the table above we see that the value for <b>A</b> is 65, and the value for <b>B</b> is 66, therefore:\n"
      ]
    },
    {
      "cell_type": "code",
      "execution_count": 8,
      "metadata": {
        "colab": {
          "base_uri": "https://localhost:8080/"
        },
        "id": "gH-l1O4Z2dwu",
        "outputId": "a12979c1-252a-4da4-8b09-3df34655dccb"
      },
      "outputs": [
        {
          "output_type": "execute_result",
          "data": {
            "text/plain": [
              "True"
            ]
          },
          "metadata": {},
          "execution_count": 8
        }
      ],
      "source": [
        "# Compare characters\n",
        "\n",
        "'B' > 'A'"
      ]
    },
    {
      "cell_type": "markdown",
      "metadata": {
        "id": "o0AqBZvA2dwv"
      },
      "source": [
        "When there are multiple letters, the first letter takes precedence in ordering:\n"
      ]
    },
    {
      "cell_type": "code",
      "execution_count": 9,
      "metadata": {
        "colab": {
          "base_uri": "https://localhost:8080/"
        },
        "id": "TSbYSC_M2dwv",
        "outputId": "d2504aea-1edf-46bb-dd75-9acf6bc3e590"
      },
      "outputs": [
        {
          "output_type": "execute_result",
          "data": {
            "text/plain": [
              "True"
            ]
          },
          "metadata": {},
          "execution_count": 9
        }
      ],
      "source": [
        "# Compare characters\n",
        "\n",
        "'BA' > 'AB'"
      ]
    },
    {
      "cell_type": "markdown",
      "metadata": {
        "id": "eHYh69dy2dwv"
      },
      "source": [
        "<b>Note</b>: Upper Case Letters have different ASCII code than Lower Case Letters, which means the comparison between the letters in Python is case-sensitive.\n"
      ]
    },
    {
      "cell_type": "markdown",
      "metadata": {
        "id": "o9WJ-uwC2dww"
      },
      "source": [
        "<h3 id=\"branch\">Branching</h3>\n"
      ]
    },
    {
      "cell_type": "markdown",
      "metadata": {
        "id": "luDzfwL_2dww"
      },
      "source": [
        "Branching allows us to run different statements for different inputs. It is helpful to think of an **if statement** as a locked room, if the statement is **True** we can enter the room and your program will run some predefined tasks, but if the statement is **False** the program will ignore the task.\n"
      ]
    },
    {
      "cell_type": "markdown",
      "metadata": {
        "id": "eNfdbXTO2dww"
      },
      "source": [
        "For example, consider the blue rectangle representing an ACDC concert. If the individual is older than 18, they can enter the ACDC concert. If they are 18 or younger, they cannot enter the concert.\n",
        "\n",
        "We can use the condition statements learned before as the conditions that need to be checked in the **if statement**. The syntax is as simple as <code> if <i>condition statement</i> :</code>, which contains a word <code>if</code>, any condition statement, and a colon at the end. Start your tasks which need to be executed under this condition in a new line with an indent. The lines of code after the colon and with an indent will only be executed when the **if statement** is **True**. The tasks will end when the line of code does not contain the indent.\n",
        "\n",
        "In the case below, the code <code>print(“you can enter”)</code> is executed only if the variable <code>age</code> is greater than 18 is a True case because this line of code has the indent. However, the execution of <code>print(“move on”)</code> will not be influenced by the if statement.\n"
      ]
    },
    {
      "cell_type": "code",
      "execution_count": 13,
      "metadata": {
        "colab": {
          "base_uri": "https://localhost:8080/"
        },
        "id": "ypB3ukV52dw7",
        "outputId": "3ea2c1d7-aaea-466f-c680-fde7c90b8b8a"
      },
      "outputs": [
        {
          "output_type": "stream",
          "name": "stdout",
          "text": [
            "you can enter\n",
            "move on\n"
          ]
        }
      ],
      "source": [
        "# If statement example\n",
        "\n",
        "age = 19\n",
        "#age = 18\n",
        "\n",
        "#expression that can be true or false\n",
        "if age > 18:\n",
        "    \n",
        "    #within an indent, we have the expression that is run if the condition is true\n",
        "    print(\"you can enter\" )\n",
        "\n",
        "#The statements after the if statement will run regardless if the condition is true or false \n",
        "print(\"move on\")"
      ]
    },
    {
      "cell_type": "markdown",
      "metadata": {
        "id": "mqdJk-7G2dw8"
      },
      "source": [
        "<i>Try uncommenting the age variable</i>\n"
      ]
    },
    {
      "cell_type": "markdown",
      "metadata": {
        "id": "mdiQsiTZ2dw8"
      },
      "source": [
        "It is helpful to use the following diagram to illustrate the process. On the left side, we see what happens when the condition is <b>True</b>.  The person enters the ACDC concert representing the code in the indent being executed; they then move on. On the right side, we see what happens when the condition is <b>False</b>; the person is not granted access, and the person moves on. In this case, the segment of code in the indent does not run, but the rest of the statements are run.\n"
      ]
    },
    {
      "cell_type": "markdown",
      "metadata": {
        "id": "nCchOE-r2dw9"
      },
      "source": [
        "<img src=\"https://cf-courses-data.s3.us.cloud-object-storage.appdomain.cloud/IBMDeveloperSkillsNetwork-PY0101EN-SkillsNetwork/labs/Module%203/images/CondsIf.gif\" width=\"650\" />\n"
      ]
    },
    {
      "cell_type": "markdown",
      "metadata": {
        "id": "wqL5O-Eo2dw9"
      },
      "source": [
        "The <code>else</code> statement runs a block of code if none of the conditions are **True** before this <code>else</code> statement. Let's use the ACDC concert analogy again. If the user is 17 they cannot go to the ACDC concert,  but they can go to the Meatloaf concert.\n",
        "The syntax of the <code>else</code> statement is similar as the syntax of the <code>if</code> statement, as <code>else :</code>. Notice that, there is no condition statement for <code>else</code>.\n",
        "Try changing the values of <code>age</code> to see what happens:\n"
      ]
    },
    {
      "cell_type": "code",
      "execution_count": 16,
      "metadata": {
        "colab": {
          "base_uri": "https://localhost:8080/"
        },
        "id": "qS8CjvCd2dw9",
        "outputId": "0c983fa0-5632-4570-8b67-a03963498e5c"
      },
      "outputs": [
        {
          "output_type": "stream",
          "name": "stdout",
          "text": [
            "go see Meat Loaf\n",
            "move on\n"
          ]
        }
      ],
      "source": [
        "# Else statement example\n",
        "\n",
        "age = 18\n",
        "#age = 19\n",
        "\n",
        "if age > 18:\n",
        "    print(\"you can enter\" )\n",
        "else:\n",
        "    print(\"go see Meat Loaf\" )\n",
        "    \n",
        "print(\"move on\")"
      ]
    },
    {
      "cell_type": "markdown",
      "metadata": {
        "id": "va1OuNLd2dw-"
      },
      "source": [
        "The process is demonstrated below, where each of the possibilities is illustrated on each side of the image. On the left is the case where the age is 17, we set the variable age to 17, and this corresponds to the individual attending the Meatloaf concert. The right portion shows what happens when the individual is over 18, in this case 19, and the individual is granted access to the concert.\n"
      ]
    },
    {
      "cell_type": "markdown",
      "metadata": {
        "id": "V-6Pfu-g2dw-"
      },
      "source": [
        "<img src=\"https://cf-courses-data.s3.us.cloud-object-storage.appdomain.cloud/IBMDeveloperSkillsNetwork-PY0101EN-SkillsNetwork/labs/Module%203/images/CondsElse.gif\" width=\"650\" />\n"
      ]
    },
    {
      "cell_type": "markdown",
      "metadata": {
        "id": "ZLucLVBN2dw-"
      },
      "source": [
        "The <code>elif</code> statement, short for else if, allows us to check additional conditions if the condition statements before it are <b>False</b>. If the condition for the <code>elif</code> statement is <b>True</b>, the alternate expressions will be run. Consider the concert example, where if the individual is 18 they will go to the Pink Floyd concert instead of attending the ACDC or Meat-loaf concert. A person that is 18 years of age enters the area, and as they are not older than 18 they can not see ACDC, but since they are 18 years of age, they attend  Pink Floyd. After seeing Pink Floyd, they move on. The syntax of the <code>elif</code> statement is similar in that we merely change the <code>if</code> in the <code>if</code> statement to <code>elif</code>.\n"
      ]
    },
    {
      "cell_type": "code",
      "execution_count": 17,
      "metadata": {
        "colab": {
          "base_uri": "https://localhost:8080/"
        },
        "id": "_AuaCCtH2dw_",
        "outputId": "45619af7-8db0-442d-a15f-2b2ea4ba36c8"
      },
      "outputs": [
        {
          "output_type": "stream",
          "name": "stdout",
          "text": [
            "go see Pink Floyd\n",
            "move on\n"
          ]
        }
      ],
      "source": [
        "# Elif statment example\n",
        "\n",
        "age = 18\n",
        "\n",
        "if age > 18:\n",
        "    print(\"you can enter\" )\n",
        "elif age == 18:\n",
        "    print(\"go see Pink Floyd\")\n",
        "else:\n",
        "    print(\"go see Meat Loaf\" )\n",
        "    \n",
        "print(\"move on\")"
      ]
    },
    {
      "cell_type": "markdown",
      "metadata": {
        "id": "zqGZtCR22dw_"
      },
      "source": [
        "The three combinations are shown in the figure below.  The left-most region shows what happens when the individual is less than 18 years of age. The central component shows when the individual is exactly 18. The rightmost shows when the individual is over 18.\n"
      ]
    },
    {
      "cell_type": "markdown",
      "metadata": {
        "id": "YPSBL4212dw_"
      },
      "source": [
        "<img src =\"https://cf-courses-data.s3.us.cloud-object-storage.appdomain.cloud/IBMDeveloperSkillsNetwork-PY0101EN-SkillsNetwork/labs/Module%203/images/CondsElif.gif\" width=\"650\" />\n"
      ]
    },
    {
      "cell_type": "markdown",
      "metadata": {
        "id": "vN5c0YXY2dxA"
      },
      "source": [
        "Look at the following code:\n"
      ]
    },
    {
      "cell_type": "code",
      "execution_count": 18,
      "metadata": {
        "colab": {
          "base_uri": "https://localhost:8080/"
        },
        "id": "RL4XsQcd2dxA",
        "outputId": "2ee3af15-0672-4bb1-c185-d1fdac4d4b32"
      },
      "outputs": [
        {
          "output_type": "stream",
          "name": "stdout",
          "text": [
            "do something..\n"
          ]
        }
      ],
      "source": [
        "# Condition statement example\n",
        "\n",
        "album_year = 1983\n",
        "album_year = 1970\n",
        "\n",
        "if album_year > 1980:\n",
        "    print(\"Album year is greater than 1980\")\n",
        "    \n",
        "print('do something..')"
      ]
    },
    {
      "cell_type": "markdown",
      "metadata": {
        "id": "uH2oKHkM2dxA"
      },
      "source": [
        "Feel free to change <code>album_year</code> value to other values -- you'll see that the result changes!\n"
      ]
    },
    {
      "cell_type": "markdown",
      "metadata": {
        "id": "b6LhZ-6W2dxB"
      },
      "source": [
        "Notice that the code in the above <b>indented</b> block will only be executed if the results are <b>True</b>.\n"
      ]
    },
    {
      "cell_type": "markdown",
      "metadata": {
        "id": "GMtl86ZX2dxB"
      },
      "source": [
        "As before, we can add an <code>else</code> block to the <code>if</code> block. The code in the <code>else</code> block will only be executed if the result is <b>False</b>.\n",
        "\n",
        "<b>Syntax:</b>\n",
        "\n",
        "if (condition):\n",
        "\\# do something\n",
        "else:\n",
        "\\# do something else\n"
      ]
    },
    {
      "cell_type": "markdown",
      "metadata": {
        "id": "TUvYuSoB2dxB"
      },
      "source": [
        "If the condition in the <code>if</code> statement is <b>False</b>, the statement after the <code>else</code> block will execute. This is demonstrated in the figure:\n"
      ]
    },
    {
      "cell_type": "markdown",
      "metadata": {
        "id": "VXnrvQ1q2dxC"
      },
      "source": [
        "<img src=\"https://cf-courses-data.s3.us.cloud-object-storage.appdomain.cloud/IBMDeveloperSkillsNetwork-PY0101EN-SkillsNetwork/labs/Module%203/images/CondsLogicMap.png\" width=\"650\" />\n"
      ]
    },
    {
      "cell_type": "code",
      "execution_count": 19,
      "metadata": {
        "colab": {
          "base_uri": "https://localhost:8080/"
        },
        "id": "wRly7p5q2dxC",
        "outputId": "de61963b-3b06-4669-80c0-2b8a5c8ffc75"
      },
      "outputs": [
        {
          "output_type": "stream",
          "name": "stdout",
          "text": [
            "Album year is greater than 1980\n",
            "do something..\n"
          ]
        }
      ],
      "source": [
        "# Condition statement example\n",
        "\n",
        "album_year = 1983\n",
        "#album_year = 1970\n",
        "\n",
        "if album_year > 1980:\n",
        "    print(\"Album year is greater than 1980\")\n",
        "else:\n",
        "    print(\"less than 1980\")\n",
        "\n",
        "print('do something..')"
      ]
    },
    {
      "cell_type": "markdown",
      "metadata": {
        "id": "mKIZFVR32dxC"
      },
      "source": [
        "Feel free to change the <code>album_year</code> value to other values -- you'll see that the result changes based on it!\n"
      ]
    },
    {
      "cell_type": "markdown",
      "metadata": {
        "id": "J3tWjdpz2dxC"
      },
      "source": [
        "<h3 id=\"logic\">Logical operators</h3>\n"
      ]
    },
    {
      "cell_type": "markdown",
      "metadata": {
        "id": "uvPR9Kw82dxD"
      },
      "source": [
        "Sometimes you want to check more than one condition at once. For example, you might want to check if one condition and another condition are both **True**. Logical operators allow you to combine or modify conditions.\n",
        "\n",
        "<ul>\n",
        "    <li><code>and</code></li>\n",
        "    <li><code>or</code></li>\n",
        "    <li><code>not</code></li>\n",
        "</ul>\n",
        "\n",
        "These operators are summarized for two variables using the following truth tables:\n"
      ]
    },
    {
      "cell_type": "markdown",
      "metadata": {
        "id": "uHMQMsEf2dxD"
      },
      "source": [
        "<img src=\"https://cf-courses-data.s3.us.cloud-object-storage.appdomain.cloud/IBMDeveloperSkillsNetwork-PY0101EN-SkillsNetwork/labs/Module%203/images/CondsTable.png\" width=\"650\" />\n"
      ]
    },
    {
      "cell_type": "markdown",
      "metadata": {
        "id": "sFKM6Qxv2dxE"
      },
      "source": [
        "The <code>and</code> statement is only **True** when both conditions are true. The <code>or</code> statement is True if one condition, or both are **True**. The <code>not</code> statement outputs the opposite truth value.\n"
      ]
    },
    {
      "cell_type": "markdown",
      "metadata": {
        "id": "vxtYjKl-2dxE"
      },
      "source": [
        "Let's see how to determine if an album was released after 1979 (1979 is not included) and before 1990 (1990 is not included). The time periods between 1980 and 1989 satisfy this condition. This is demonstrated in the figure below. The green on lines <strong>a</strong> and <strong>b</strong> represents periods where the statement is **True**. The green on line <strong>c</strong> represents where both conditions are **True**, this corresponds to where the green regions overlap.\n"
      ]
    },
    {
      "cell_type": "markdown",
      "metadata": {
        "id": "NAsxgW8J2dxE"
      },
      "source": [
        "<img src=\"https://cf-courses-data.s3.us.cloud-object-storage.appdomain.cloud/IBMDeveloperSkillsNetwork-PY0101EN-SkillsNetwork/labs/Module%203/images/CondsEgOne.png\" width=\"650\" />\n"
      ]
    },
    {
      "cell_type": "markdown",
      "metadata": {
        "id": "d4BzIVQL2dxE"
      },
      "source": [
        "The block of code to perform this check is given by:\n"
      ]
    },
    {
      "cell_type": "code",
      "execution_count": 20,
      "metadata": {
        "colab": {
          "base_uri": "https://localhost:8080/"
        },
        "id": "bCC8oPpH2dxF",
        "outputId": "79651c3d-b4cb-4ada-f140-fc52e4dd51bd"
      },
      "outputs": [
        {
          "output_type": "stream",
          "name": "stdout",
          "text": [
            "Album year was in between 1980 and 1989\n",
            "\n",
            "Do Stuff..\n"
          ]
        }
      ],
      "source": [
        "# Condition statement example\n",
        "\n",
        "album_year = 1980\n",
        "\n",
        "if(album_year > 1979) and (album_year < 1990):\n",
        "    print (\"Album year was in between 1980 and 1989\")\n",
        "    \n",
        "print(\"\")\n",
        "print(\"Do Stuff..\")"
      ]
    },
    {
      "cell_type": "markdown",
      "metadata": {
        "id": "0zVk9aJE2dxF"
      },
      "source": [
        "To determine if an album was released before 1980 (1979 and earlier) or after 1989 (1990 and onward ), an or statement can be used. Periods before 1980 (1979 and earlier) or after 1989 (1990 and onward) satisfy this condition. This is demonstrated in the following figure, the color green in <strong>a</strong> and <strong>b</strong> represents periods where the statement is true. The color green in **c** represents where at least one of the conditions\n",
        "are true.\n"
      ]
    },
    {
      "cell_type": "markdown",
      "metadata": {
        "id": "xskk7fpp2dxF"
      },
      "source": [
        "<img src=\"https://cf-courses-data.s3.us.cloud-object-storage.appdomain.cloud/IBMDeveloperSkillsNetwork-PY0101EN-SkillsNetwork/labs/Module%203/images/CondsEgTwo.png\" width=\"650\" />\n"
      ]
    },
    {
      "cell_type": "markdown",
      "metadata": {
        "id": "jX7NYZW_2dxG"
      },
      "source": [
        "The block of code to perform this check is given by:\n"
      ]
    },
    {
      "cell_type": "code",
      "execution_count": 21,
      "metadata": {
        "colab": {
          "base_uri": "https://localhost:8080/"
        },
        "id": "C-y79k0Z2dxG",
        "outputId": "8ef634ce-139a-4022-8862-eb5966048684"
      },
      "outputs": [
        {
          "output_type": "stream",
          "name": "stdout",
          "text": [
            "Album was not made in the 1980's\n"
          ]
        }
      ],
      "source": [
        "# Condition statement example\n",
        "\n",
        "album_year = 1990\n",
        "\n",
        "if(album_year < 1980) or (album_year > 1989):\n",
        "    print (\"Album was not made in the 1980's\")\n",
        "else:\n",
        "    print(\"The Album was made in the 1980's \")"
      ]
    },
    {
      "cell_type": "markdown",
      "metadata": {
        "id": "75n732jH2dxG"
      },
      "source": [
        "The <code>not</code> statement checks if the statement is false:\n"
      ]
    },
    {
      "cell_type": "code",
      "execution_count": 22,
      "metadata": {
        "colab": {
          "base_uri": "https://localhost:8080/"
        },
        "id": "pqvcPJLF2dxG",
        "outputId": "8af24f94-3af2-468d-d5f7-6f23645b5fce"
      },
      "outputs": [
        {
          "output_type": "stream",
          "name": "stdout",
          "text": [
            "Album year is not 1984\n"
          ]
        }
      ],
      "source": [
        "# Condition statement example\n",
        "\n",
        "album_year = 1983\n",
        "\n",
        "if not (album_year == 1984):\n",
        "    print (\"Album year is not 1984\")"
      ]
    },
    {
      "cell_type": "markdown",
      "metadata": {
        "id": "PnMAR4go2dxH"
      },
      "source": [
        "<hr>\n"
      ]
    },
    {
      "cell_type": "markdown",
      "metadata": {
        "id": "mr8letY72dxH"
      },
      "source": [
        "<h2 id=\"quiz\">Quiz on Conditions</h2>\n"
      ]
    },
    {
      "cell_type": "markdown",
      "metadata": {
        "id": "oE1EegNJ2dxH"
      },
      "source": [
        "Write an if statement to determine if an album had a rating greater than 8. Test it using the rating for the album <b>“Back in Black”</b> that had a rating of 8.5. If the statement is true print \"This album is Amazing!\"\n"
      ]
    },
    {
      "cell_type": "code",
      "execution_count": 23,
      "metadata": {
        "colab": {
          "base_uri": "https://localhost:8080/"
        },
        "id": "Mi2bw0RC2dxI",
        "outputId": "c8f74c18-3c81-499c-e0b9-11afe3a41d1d"
      },
      "outputs": [
        {
          "output_type": "stream",
          "name": "stdout",
          "text": [
            "This album is Amazing!\n"
          ]
        }
      ],
      "source": [
        "# Write your code below and press Shift+Enter to execute\n",
        "album_rating = 8.5\n",
        "\n",
        "if album_rating > 8:\n",
        "  print(\"This album is Amazing!\")"
      ]
    },
    {
      "cell_type": "markdown",
      "metadata": {
        "id": "3HLSUMQF2dxI"
      },
      "source": [
        "<hr>\n"
      ]
    },
    {
      "cell_type": "markdown",
      "metadata": {
        "id": "u2ja6J4z2dxJ"
      },
      "source": [
        "Write an if-else statement that performs the following. If the rating is larger then eight print “this album is amazing”. If the rating is less than or equal to 8 print “this album is ok”.\n"
      ]
    },
    {
      "cell_type": "code",
      "execution_count": 25,
      "metadata": {
        "colab": {
          "base_uri": "https://localhost:8080/"
        },
        "id": "wHpq2NsU2dxJ",
        "outputId": "5d1cc399-4906-4d44-e057-6a0cd45a5b3b"
      },
      "outputs": [
        {
          "output_type": "stream",
          "name": "stdout",
          "text": [
            "this album is Ok\n"
          ]
        }
      ],
      "source": [
        "# Write your code below and press Shift+Enter to execute\n",
        "rating = 7\n",
        "\n",
        "if rating > 8:\n",
        "  print(\"this album is amazing\")\n",
        "else:\n",
        "  print(\"this album is Ok\")"
      ]
    },
    {
      "cell_type": "markdown",
      "metadata": {
        "id": "Lf5WQ7dI2dxK"
      },
      "source": [
        "<hr>\n"
      ]
    },
    {
      "cell_type": "markdown",
      "metadata": {
        "id": "nGiU7Kdo2dxK"
      },
      "source": [
        "Write an if statement to determine if an album came out before 1980 or in the years: 1991 or 1993. If the condition is true print out the year the album came out.\n"
      ]
    },
    {
      "cell_type": "code",
      "execution_count": 30,
      "metadata": {
        "colab": {
          "base_uri": "https://localhost:8080/"
        },
        "id": "WKReTScR2dxK",
        "outputId": "4fb18cba-fceb-4c12-953f-faa4bc75cb56"
      },
      "outputs": [
        {
          "output_type": "stream",
          "name": "stdout",
          "text": [
            "The album came out in the Year:  1960\n"
          ]
        }
      ],
      "source": [
        "# Write your code below and press Shift+Enter to execute\n",
        "album_year = 1960\n",
        "\n",
        "if album_year < 1980 or album_year == 1991 or album_year == 1993:\n",
        "  print(\"The album came out in the Year: \",album_year)"
      ]
    }
  ],
  "metadata": {
    "kernelspec": {
      "display_name": "Python 3",
      "language": "python",
      "name": "python3"
    },
    "language_info": {
      "codemirror_mode": {
        "name": "ipython",
        "version": 3
      },
      "file_extension": ".py",
      "mimetype": "text/x-python",
      "name": "python",
      "nbconvert_exporter": "python",
      "pygments_lexer": "ipython3",
      "version": "3.8.8"
    },
    "metadata": {
      "interpreter": {
        "hash": "3abed311d39052675f1169a15d6f64f9745014cae486d494ad699e58cf37536b"
      }
    },
    "colab": {
      "name": "PY0101EN-3-1-Conditions.ipynb",
      "provenance": [],
      "collapsed_sections": [],
      "include_colab_link": true
    }
  },
  "nbformat": 4,
  "nbformat_minor": 0
}