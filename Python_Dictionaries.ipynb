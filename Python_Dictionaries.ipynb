{
  "cells": [
    {
      "cell_type": "markdown",
      "metadata": {
        "id": "view-in-github",
        "colab_type": "text"
      },
      "source": [
        "<a href=\"https://colab.research.google.com/github/sanu-analyst/Python_Practice/blob/main/Python_Dictionaries.ipynb\" target=\"_parent\"><img src=\"https://colab.research.google.com/assets/colab-badge.svg\" alt=\"Open In Colab\"/></a>"
      ]
    },
    {
      "cell_type": "markdown",
      "metadata": {
        "id": "Kc2g7IwLbupH"
      },
      "source": [
        "<h2>Table of Contents</h2>\n",
        "<div class=\"alert alert-block alert-info\" style=\"margin-top: 20px\">\n",
        "    <ul>\n",
        "        <li>\n",
        "            <a href=\"https://#dic\">Dictionaries</a>\n",
        "            <ul>\n",
        "                <li><a href=\"https://content/?utm_medium=Exinfluencer&utm_source=Exinfluencer&utm_content=000026UJ&utm_term=10006555&utm_id=NA-SkillsNetwork-Channel-SkillsNetworkCoursesIBMDeveloperSkillsNetworkPY0101ENSkillsNetwork19487395-2022-01-01\">What are Dictionaries?</a></li>\n",
        "                <li><a href=\"https://key/?utm_medium=Exinfluencer&utm_source=Exinfluencer&utm_content=000026UJ&utm_term=10006555&utm_id=NA-SkillsNetwork-Channel-SkillsNetworkCoursesIBMDeveloperSkillsNetworkPY0101ENSkillsNetwork19487395-2022-01-01\">Keys</a></li>\n",
        "            </ul>\n",
        "        </li>\n",
        "        <li>\n",
        "            <a href=\"https://#quiz\">Quiz on Dictionaries</a>\n",
        "        </li>\n",
        "    </ul>\n",
        "\n",
        "</div>\n",
        "\n",
        "<hr>\n"
      ]
    },
    {
      "cell_type": "markdown",
      "metadata": {
        "id": "2q03F6cTbupJ"
      },
      "source": [
        "<h2 id=\"Dic\">Dictionaries</h2>\n"
      ]
    },
    {
      "cell_type": "markdown",
      "metadata": {
        "id": "dRjBOZlbbupL"
      },
      "source": [
        "<h3 id=\"content\">What are Dictionaries?</h3>\n"
      ]
    },
    {
      "cell_type": "markdown",
      "metadata": {
        "id": "tYwXGZwEbupM"
      },
      "source": [
        "A dictionary consists of keys and values. It is helpful to compare a dictionary to a list. Instead of being indexed numerically like a list, dictionaries have keys. These keys are the keys that are used to access values within a dictionary.\n"
      ]
    },
    {
      "cell_type": "markdown",
      "metadata": {
        "id": "-tcPZInFbupN"
      },
      "source": [
        "<img src=\"https://cf-courses-data.s3.us.cloud-object-storage.appdomain.cloud/IBMDeveloperSkillsNetwork-PY0101EN-SkillsNetwork/labs/Module%202/images/DictsList.png\" width=\"650\" />\n"
      ]
    },
    {
      "cell_type": "markdown",
      "metadata": {
        "id": "QYuOxcXIbupO"
      },
      "source": [
        "An example of a Dictionary <code>Dict</code>:\n"
      ]
    },
    {
      "cell_type": "code",
      "execution_count": 1,
      "metadata": {
        "jupyter": {
          "outputs_hidden": false
        },
        "colab": {
          "base_uri": "https://localhost:8080/"
        },
        "id": "ehn_RjeUbupQ",
        "outputId": "d96af9d0-893d-4262-9522-0d1ce64acfd0"
      },
      "outputs": [
        {
          "output_type": "execute_result",
          "data": {
            "text/plain": [
              "{(0, 1): 6,\n",
              " 'key1': 1,\n",
              " 'key2': '2',\n",
              " 'key3': [3, 3, 3],\n",
              " 'key4': (4, 4, 4),\n",
              " 'key5': 5}"
            ]
          },
          "metadata": {},
          "execution_count": 1
        }
      ],
      "source": [
        "# Create the dictionary\n",
        "\n",
        "Dict = {\"key1\": 1, \"key2\": \"2\", \"key3\": [3, 3, 3], \"key4\": (4, 4, 4), ('key5'): 5, (0, 1): 6}\n",
        "Dict"
      ]
    },
    {
      "cell_type": "markdown",
      "metadata": {
        "id": "XTeSvZ_ebupS"
      },
      "source": [
        "The keys can be strings:\n"
      ]
    },
    {
      "cell_type": "code",
      "execution_count": 2,
      "metadata": {
        "jupyter": {
          "outputs_hidden": false
        },
        "colab": {
          "base_uri": "https://localhost:8080/"
        },
        "id": "Ns1hB2WbbupU",
        "outputId": "6602dea8-f068-4542-e432-ee9b7cbffdbc"
      },
      "outputs": [
        {
          "output_type": "execute_result",
          "data": {
            "text/plain": [
              "1"
            ]
          },
          "metadata": {},
          "execution_count": 2
        }
      ],
      "source": [
        "# Access to the value by the key\n",
        "\n",
        "Dict[\"key1\"]"
      ]
    },
    {
      "cell_type": "markdown",
      "metadata": {
        "id": "ORr4ZIBfbupV"
      },
      "source": [
        "Keys can also be any immutable object such as a tuple:\n"
      ]
    },
    {
      "cell_type": "code",
      "execution_count": 3,
      "metadata": {
        "jupyter": {
          "outputs_hidden": false
        },
        "colab": {
          "base_uri": "https://localhost:8080/"
        },
        "id": "SSzLjTvXbupV",
        "outputId": "fba21d8d-561a-4802-8e83-7d2452b10de5"
      },
      "outputs": [
        {
          "output_type": "execute_result",
          "data": {
            "text/plain": [
              "6"
            ]
          },
          "metadata": {},
          "execution_count": 3
        }
      ],
      "source": [
        "# Access to the value by the key\n",
        "\n",
        "Dict[(0, 1)]"
      ]
    },
    {
      "cell_type": "markdown",
      "metadata": {
        "id": "Tu0fGTmcbupW"
      },
      "source": [
        "Each key is separated from its value by a colon \"<code>:</code>\".  Commas separate the items, and the whole dictionary is enclosed in curly braces. An empty dictionary without any items is written with just two curly braces, like this  \"<code>{}</code>\".\n"
      ]
    },
    {
      "cell_type": "code",
      "execution_count": 4,
      "metadata": {
        "jupyter": {
          "outputs_hidden": false
        },
        "colab": {
          "base_uri": "https://localhost:8080/"
        },
        "id": "dzDyyZzxbupW",
        "outputId": "6d88bfa4-d25b-432a-d63f-b74a4fbe5a72"
      },
      "outputs": [
        {
          "output_type": "execute_result",
          "data": {
            "text/plain": [
              "{'Back in Black': '1980',\n",
              " 'Bat Out of Hell': '1977',\n",
              " 'Rumours': '1977',\n",
              " 'Saturday Night Fever': '1977',\n",
              " 'The Bodyguard': '1992',\n",
              " 'The Dark Side of the Moon': '1973',\n",
              " 'Their Greatest Hits (1971-1975)': '1976',\n",
              " 'Thriller': '1982'}"
            ]
          },
          "metadata": {},
          "execution_count": 4
        }
      ],
      "source": [
        "# Create a sample dictionary\n",
        "\n",
        "release_year_dict = {\"Thriller\": \"1982\", \"Back in Black\": \"1980\", \\\n",
        "                    \"The Dark Side of the Moon\": \"1973\", \"The Bodyguard\": \"1992\", \\\n",
        "                    \"Bat Out of Hell\": \"1977\", \"Their Greatest Hits (1971-1975)\": \"1976\", \\\n",
        "                    \"Saturday Night Fever\": \"1977\", \"Rumours\": \"1977\"}\n",
        "release_year_dict"
      ]
    },
    {
      "cell_type": "markdown",
      "metadata": {
        "id": "6X5TcZgHbupX"
      },
      "source": [
        "In summary, like a list, a dictionary holds a sequence of elements. Each element is represented by a key and its corresponding value. Dictionaries are created with two curly braces containing keys and values separated by a colon. For every key, there can only be one single value, however,  multiple keys can hold the same value. Keys can only be strings, numbers, or tuples, but values can be any data type.\n"
      ]
    },
    {
      "cell_type": "markdown",
      "metadata": {
        "id": "UH7Z8Ei7bupY"
      },
      "source": [
        "It is helpful to visualize the dictionary as a table, as in the following image. The first column represents the keys, the second column represents the values.\n"
      ]
    },
    {
      "cell_type": "markdown",
      "metadata": {
        "id": "cMhQm8TbbupZ"
      },
      "source": [
        "<img src=\"https://cf-courses-data.s3.us.cloud-object-storage.appdomain.cloud/IBMDeveloperSkillsNetwork-PY0101EN-SkillsNetwork/labs/Module%202/images/DictsStructure.png\" width=\"650\" />\n"
      ]
    },
    {
      "cell_type": "markdown",
      "metadata": {
        "id": "i2ztk8Labupa"
      },
      "source": [
        "<h3 id=\"key\">Keys</h3>\n"
      ]
    },
    {
      "cell_type": "markdown",
      "metadata": {
        "id": "yuipnwj-bupa"
      },
      "source": [
        "You can retrieve the values based on the names:\n"
      ]
    },
    {
      "cell_type": "code",
      "execution_count": 5,
      "metadata": {
        "jupyter": {
          "outputs_hidden": false
        },
        "colab": {
          "base_uri": "https://localhost:8080/",
          "height": 35
        },
        "id": "QTnrkUfXbupb",
        "outputId": "53c6f97a-627a-437b-9ae3-1174f80110b4"
      },
      "outputs": [
        {
          "output_type": "execute_result",
          "data": {
            "text/plain": [
              "'1982'"
            ],
            "application/vnd.google.colaboratory.intrinsic+json": {
              "type": "string"
            }
          },
          "metadata": {},
          "execution_count": 5
        }
      ],
      "source": [
        "# Get value by keys\n",
        "\n",
        "release_year_dict['Thriller'] "
      ]
    },
    {
      "cell_type": "markdown",
      "metadata": {
        "id": "IDnXaY1qbupc"
      },
      "source": [
        "This corresponds to:\n"
      ]
    },
    {
      "cell_type": "markdown",
      "metadata": {
        "id": "RlZNX-6bbupd"
      },
      "source": [
        "<img src=\"https://cf-courses-data.s3.us.cloud-object-storage.appdomain.cloud/IBMDeveloperSkillsNetwork-PY0101EN-SkillsNetwork/labs/Module%202/images/DictsKeyOne.png\" width=\"500\" />\n"
      ]
    },
    {
      "cell_type": "markdown",
      "metadata": {
        "id": "tf2rw541bupd"
      },
      "source": [
        "Similarly for <b>The Bodyguard</b>\n"
      ]
    },
    {
      "cell_type": "code",
      "execution_count": 6,
      "metadata": {
        "jupyter": {
          "outputs_hidden": false
        },
        "colab": {
          "base_uri": "https://localhost:8080/",
          "height": 35
        },
        "id": "Coa89FG0bupd",
        "outputId": "84a0eaee-9b45-44ec-ac72-8e07af35dbba"
      },
      "outputs": [
        {
          "output_type": "execute_result",
          "data": {
            "text/plain": [
              "'1992'"
            ],
            "application/vnd.google.colaboratory.intrinsic+json": {
              "type": "string"
            }
          },
          "metadata": {},
          "execution_count": 6
        }
      ],
      "source": [
        "# Get value by key\n",
        "\n",
        "release_year_dict['The Bodyguard'] "
      ]
    },
    {
      "cell_type": "markdown",
      "metadata": {
        "id": "L82zbDrWbupe"
      },
      "source": [
        "<img src=\"https://cf-courses-data.s3.us.cloud-object-storage.appdomain.cloud/IBMDeveloperSkillsNetwork-PY0101EN-SkillsNetwork/labs/Module%202/images/DictsKeyTwo.png\" width=\"500\" />\n"
      ]
    },
    {
      "cell_type": "markdown",
      "metadata": {
        "id": "a2JBScBibupe"
      },
      "source": [
        "Now let us retrieve the keys of the dictionary using the method <code>keys()</code>:\n"
      ]
    },
    {
      "cell_type": "code",
      "execution_count": 7,
      "metadata": {
        "jupyter": {
          "outputs_hidden": false
        },
        "colab": {
          "base_uri": "https://localhost:8080/"
        },
        "id": "I45Z3sT1bupf",
        "outputId": "5590524e-a09b-4a9b-895c-a4189f0c9da4"
      },
      "outputs": [
        {
          "output_type": "execute_result",
          "data": {
            "text/plain": [
              "dict_keys(['Thriller', 'Back in Black', 'The Dark Side of the Moon', 'The Bodyguard', 'Bat Out of Hell', 'Their Greatest Hits (1971-1975)', 'Saturday Night Fever', 'Rumours'])"
            ]
          },
          "metadata": {},
          "execution_count": 7
        }
      ],
      "source": [
        "# Get all the keys in dictionary\n",
        "\n",
        "release_year_dict.keys() "
      ]
    },
    {
      "cell_type": "markdown",
      "metadata": {
        "id": "RtscAoa1bupf"
      },
      "source": [
        "You can retrieve the values using the method  <code>values()</code>:\n"
      ]
    },
    {
      "cell_type": "code",
      "execution_count": 8,
      "metadata": {
        "jupyter": {
          "outputs_hidden": false
        },
        "colab": {
          "base_uri": "https://localhost:8080/"
        },
        "id": "NbqNCMBVbupf",
        "outputId": "fc739ade-1c32-4f38-af8a-3d647029f48a"
      },
      "outputs": [
        {
          "output_type": "execute_result",
          "data": {
            "text/plain": [
              "dict_values(['1982', '1980', '1973', '1992', '1977', '1976', '1977', '1977'])"
            ]
          },
          "metadata": {},
          "execution_count": 8
        }
      ],
      "source": [
        "# Get all the values in dictionary\n",
        "\n",
        "release_year_dict.values() "
      ]
    },
    {
      "cell_type": "markdown",
      "metadata": {
        "id": "JJ_FYnuwbupg"
      },
      "source": [
        "We can add an entry:\n"
      ]
    },
    {
      "cell_type": "code",
      "execution_count": 9,
      "metadata": {
        "jupyter": {
          "outputs_hidden": false
        },
        "colab": {
          "base_uri": "https://localhost:8080/"
        },
        "id": "Nfs9Mwvwbupg",
        "outputId": "f2154cd8-2eb9-4c47-8187-cc0969bb03f7"
      },
      "outputs": [
        {
          "output_type": "execute_result",
          "data": {
            "text/plain": [
              "{'Back in Black': '1980',\n",
              " 'Bat Out of Hell': '1977',\n",
              " 'Graduation': '2007',\n",
              " 'Rumours': '1977',\n",
              " 'Saturday Night Fever': '1977',\n",
              " 'The Bodyguard': '1992',\n",
              " 'The Dark Side of the Moon': '1973',\n",
              " 'Their Greatest Hits (1971-1975)': '1976',\n",
              " 'Thriller': '1982'}"
            ]
          },
          "metadata": {},
          "execution_count": 9
        }
      ],
      "source": [
        "# Append value with key into dictionary\n",
        "\n",
        "release_year_dict['Graduation'] = '2007'\n",
        "release_year_dict"
      ]
    },
    {
      "cell_type": "markdown",
      "metadata": {
        "id": "cQtg_sAHbupg"
      },
      "source": [
        "We can delete an entry:\n"
      ]
    },
    {
      "cell_type": "code",
      "execution_count": 10,
      "metadata": {
        "jupyter": {
          "outputs_hidden": false
        },
        "colab": {
          "base_uri": "https://localhost:8080/"
        },
        "id": "eajlD-clbuph",
        "outputId": "014d0c65-1607-4ca0-dc8d-4d789e0822fb"
      },
      "outputs": [
        {
          "output_type": "execute_result",
          "data": {
            "text/plain": [
              "{'Back in Black': '1980',\n",
              " 'Bat Out of Hell': '1977',\n",
              " 'Rumours': '1977',\n",
              " 'Saturday Night Fever': '1977',\n",
              " 'The Bodyguard': '1992',\n",
              " 'The Dark Side of the Moon': '1973',\n",
              " 'Their Greatest Hits (1971-1975)': '1976'}"
            ]
          },
          "metadata": {},
          "execution_count": 10
        }
      ],
      "source": [
        "# Delete entries by key\n",
        "\n",
        "del(release_year_dict['Thriller'])\n",
        "del(release_year_dict['Graduation'])\n",
        "release_year_dict"
      ]
    },
    {
      "cell_type": "markdown",
      "metadata": {
        "id": "UxtDFynAbuph"
      },
      "source": [
        "We can verify if an element is in the dictionary:\n"
      ]
    },
    {
      "cell_type": "code",
      "execution_count": 11,
      "metadata": {
        "jupyter": {
          "outputs_hidden": false
        },
        "colab": {
          "base_uri": "https://localhost:8080/"
        },
        "id": "mzgZGefVbuph",
        "outputId": "5d45a42e-9e37-442b-e7e3-945630ebd33f"
      },
      "outputs": [
        {
          "output_type": "execute_result",
          "data": {
            "text/plain": [
              "True"
            ]
          },
          "metadata": {},
          "execution_count": 11
        }
      ],
      "source": [
        "# Verify the key is in the dictionary\n",
        "\n",
        "'The Bodyguard' in release_year_dict"
      ]
    },
    {
      "cell_type": "markdown",
      "metadata": {
        "id": "2PlPLU9Ybupi"
      },
      "source": [
        "<hr>\n"
      ]
    },
    {
      "cell_type": "markdown",
      "metadata": {
        "id": "AC-bovHDbupi"
      },
      "source": [
        "<h2 id=\"quiz\">Quiz on Dictionaries</h2>\n"
      ]
    },
    {
      "cell_type": "markdown",
      "metadata": {
        "id": "_LYi6knUbupj"
      },
      "source": [
        "<b>You will need this dictionary for the next two questions:</b>\n"
      ]
    },
    {
      "cell_type": "code",
      "execution_count": 12,
      "metadata": {
        "colab": {
          "base_uri": "https://localhost:8080/"
        },
        "id": "eJ45JxHSbupj",
        "outputId": "a5154843-3a44-42fe-8d74-582d69af9cfe"
      },
      "outputs": [
        {
          "output_type": "execute_result",
          "data": {
            "text/plain": [
              "{'Saturday Night Fever': '1977', 'The Bodyguard': '1992'}"
            ]
          },
          "metadata": {},
          "execution_count": 12
        }
      ],
      "source": [
        "# Question sample dictionary\n",
        "\n",
        "soundtrack_dic = {\"The Bodyguard\":\"1992\", \"Saturday Night Fever\":\"1977\"}\n",
        "soundtrack_dic "
      ]
    },
    {
      "cell_type": "markdown",
      "metadata": {
        "id": "riVtPGE7bupj"
      },
      "source": [
        "a) In the dictionary <code>soundtrack_dic</code> what are the keys ?\n"
      ]
    },
    {
      "cell_type": "code",
      "execution_count": 13,
      "metadata": {
        "colab": {
          "base_uri": "https://localhost:8080/"
        },
        "id": "9M-Eo9Jnbupk",
        "outputId": "fe85191c-3dbc-41fe-9cd9-4808df7a52e9"
      },
      "outputs": [
        {
          "output_type": "execute_result",
          "data": {
            "text/plain": [
              "dict_keys(['The Bodyguard', 'Saturday Night Fever'])"
            ]
          },
          "metadata": {},
          "execution_count": 13
        }
      ],
      "source": [
        "# Write your code below and press Shift+Enter to execute\n",
        "soundtrack_dic.keys()"
      ]
    },
    {
      "cell_type": "markdown",
      "metadata": {
        "id": "9MVI4U-gbupl"
      },
      "source": [
        "b) In the dictionary <code>soundtrack_dic</code> what are the values ?\n"
      ]
    },
    {
      "cell_type": "code",
      "execution_count": 14,
      "metadata": {
        "colab": {
          "base_uri": "https://localhost:8080/"
        },
        "id": "8d8Kv9Xpbupl",
        "outputId": "54f42948-c83f-4d03-c894-6ae54bfaef93"
      },
      "outputs": [
        {
          "output_type": "execute_result",
          "data": {
            "text/plain": [
              "dict_values(['1992', '1977'])"
            ]
          },
          "metadata": {},
          "execution_count": 14
        }
      ],
      "source": [
        "# Write your code below and press Shift+Enter to execute\n",
        "soundtrack_dic.values()"
      ]
    },
    {
      "cell_type": "markdown",
      "metadata": {
        "id": "S11Gufu6bupm"
      },
      "source": [
        "<hr>\n"
      ]
    },
    {
      "cell_type": "markdown",
      "metadata": {
        "id": "bQfRJniybupm"
      },
      "source": [
        "<b>You will need this dictionary for the following questions:</b>\n"
      ]
    },
    {
      "cell_type": "markdown",
      "metadata": {
        "id": "EOd6Iy4Jbupn"
      },
      "source": [
        "The Albums <b>Back in Black</b>, <b>The Bodyguard</b> and <b>Thriller</b> have the following music recording sales in millions 50, 50 and 65 respectively:\n"
      ]
    },
    {
      "cell_type": "markdown",
      "metadata": {
        "id": "wt8sFPmubupn"
      },
      "source": [
        "a) Create a dictionary <code>album_sales_dict</code> where the keys are the album name and the sales in millions are the values.\n"
      ]
    },
    {
      "cell_type": "code",
      "execution_count": 15,
      "metadata": {
        "colab": {
          "base_uri": "https://localhost:8080/"
        },
        "id": "Ho10XfEdbupn",
        "outputId": "dd18153d-a0f1-4be8-b7d9-806b2bcf2d20"
      },
      "outputs": [
        {
          "output_type": "execute_result",
          "data": {
            "text/plain": [
              "{'Back in Black': 50, 'The Bodyguard': 50, 'Thriller': 65}"
            ]
          },
          "metadata": {},
          "execution_count": 15
        }
      ],
      "source": [
        "# Write your code below and press Shift+Enter to execute\n",
        "album_sales_dict = {\"Back in Black\":50,\"The Bodyguard\":50,\"Thriller\":65}\n",
        "album_sales_dict"
      ]
    },
    {
      "cell_type": "markdown",
      "metadata": {
        "id": "-z-ZgnC6bupo"
      },
      "source": [
        "b) Use the dictionary to find the total sales of <b>Thriller</b>:\n"
      ]
    },
    {
      "cell_type": "code",
      "execution_count": 18,
      "metadata": {
        "jupyter": {
          "outputs_hidden": false
        },
        "colab": {
          "base_uri": "https://localhost:8080/"
        },
        "id": "FMnFA887bupo",
        "outputId": "41f42f5f-9355-46fa-b66e-a3419fcb6cbc"
      },
      "outputs": [
        {
          "output_type": "execute_result",
          "data": {
            "text/plain": [
              "65"
            ]
          },
          "metadata": {},
          "execution_count": 18
        }
      ],
      "source": [
        "# Write your code below and press Shift+Enter to execute\n",
        "album_sales_dict[\"Thriller\"]"
      ]
    },
    {
      "cell_type": "markdown",
      "metadata": {
        "id": "bVbXrlIJbupp"
      },
      "source": [
        "c) Find the names of the albums from the dictionary using the method <code>keys()</code>:\n"
      ]
    },
    {
      "cell_type": "code",
      "execution_count": 19,
      "metadata": {
        "jupyter": {
          "outputs_hidden": false
        },
        "colab": {
          "base_uri": "https://localhost:8080/"
        },
        "id": "RbD2X3KLbupp",
        "outputId": "0f321c58-f631-4288-aa49-472350632eed"
      },
      "outputs": [
        {
          "output_type": "execute_result",
          "data": {
            "text/plain": [
              "dict_keys(['Back in Black', 'The Bodyguard', 'Thriller'])"
            ]
          },
          "metadata": {},
          "execution_count": 19
        }
      ],
      "source": [
        "# Write your code below and press Shift+Enter to execute\n",
        "album_sales_dict.keys()"
      ]
    },
    {
      "cell_type": "markdown",
      "metadata": {
        "id": "pYSCyXqybupq"
      },
      "source": [
        "d) Find the values of the recording sales from the dictionary using the method <code>values</code>:\n"
      ]
    },
    {
      "cell_type": "code",
      "execution_count": 20,
      "metadata": {
        "jupyter": {
          "outputs_hidden": false
        },
        "colab": {
          "base_uri": "https://localhost:8080/"
        },
        "id": "zHkKozOjbupq",
        "outputId": "899e13ec-db9b-481d-b94b-793378868d64"
      },
      "outputs": [
        {
          "output_type": "execute_result",
          "data": {
            "text/plain": [
              "dict_values([50, 50, 65])"
            ]
          },
          "metadata": {},
          "execution_count": 20
        }
      ],
      "source": [
        "# Write your code below and press Shift+Enter to execute\n",
        "album_sales_dict.values()"
      ]
    }
  ],
  "metadata": {
    "kernelspec": {
      "display_name": "Python 3",
      "language": "python",
      "name": "python3"
    },
    "language_info": {
      "codemirror_mode": {
        "name": "ipython",
        "version": 3
      },
      "file_extension": ".py",
      "mimetype": "text/x-python",
      "name": "python",
      "nbconvert_exporter": "python",
      "pygments_lexer": "ipython3",
      "version": "3.7.6"
    },
    "colab": {
      "name": "PY0101EN-2-4-Dictionaries.ipynb",
      "provenance": [],
      "collapsed_sections": [],
      "include_colab_link": true
    }
  },
  "nbformat": 4,
  "nbformat_minor": 0
}